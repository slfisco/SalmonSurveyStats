{
 "cells": [
  {
   "cell_type": "code",
   "execution_count": null,
   "metadata": {},
   "outputs": [],
   "source": [
    "## Press run to get latest stats from 2023 survey\n",
    "import sys, os.path\n",
    "IN_COLAB = 'google.colab' in sys.modules\n",
    "PATH = 'SalmonSurveyStats/SalmonSurveyTotals.py' if IN_COLAB else './SalmonSurveyTotals.py'\n",
    "if IN_COLAB and not os.path.isfile(PATH):\n",
    "    !git clone https://github.com/slfisco/SalmonSurveyStats.git\n",
    "%run $PATH"
   ]
  },
  {
   "cell_type": "code",
   "execution_count": null,
   "metadata": {},
   "outputs": [],
   "source": []
  }
 ],
 "metadata": {
  "kernelspec": {
   "display_name": "Python 3",
   "language": "python",
   "name": "python3"
  },
  "language_info": {
   "codemirror_mode": {
    "name": "ipython",
    "version": 3
   },
   "file_extension": ".py",
   "mimetype": "text/x-python",
   "name": "python",
   "nbconvert_exporter": "python",
   "pygments_lexer": "ipython3",
   "version": "3.8.5"
  }
 },
 "nbformat": 4,
 "nbformat_minor": 4
}
