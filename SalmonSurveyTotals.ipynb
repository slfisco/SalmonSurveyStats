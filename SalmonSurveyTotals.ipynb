{
 "cells": [
  {
   "cell_type": "code",
   "execution_count": null,
   "metadata": {},
   "outputs": [],
   "source": [
    "## Press run to get latest stats from 2023 survey\n",
    "import sys\n",
    "in_colab = 'google.colab' in sys.modules\n",
    "if in_colab: \n",
    "    !git clone https://github.com/slfisco/SalmonSurveyStats.git\n",
    "    %run SalmonSurveyStats/SalmonSurveyTotals.py\n",
    "else:\n",
    "    %run ./SalmonSurveyTotals.py"
   ]
  },
  {
   "cell_type": "code",
   "execution_count": null,
   "metadata": {},
   "outputs": [],
   "source": []
  }
 ],
 "metadata": {
  "kernelspec": {
   "display_name": "Python 3",
   "language": "python",
   "name": "python3"
  },
  "language_info": {
   "codemirror_mode": {
    "name": "ipython",
    "version": 3
   },
   "file_extension": ".py",
   "mimetype": "text/x-python",
   "name": "python",
   "nbconvert_exporter": "python",
   "pygments_lexer": "ipython3",
   "version": "3.8.5"
  }
 },
 "nbformat": 4,
 "nbformat_minor": 4
}
